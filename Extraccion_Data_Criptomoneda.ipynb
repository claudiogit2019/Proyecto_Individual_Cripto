{
 "cells": [
  {
   "cell_type": "code",
   "execution_count": 1,
   "metadata": {},
   "outputs": [],
   "source": [
    "import pandas as pd\n",
    "import matplotlib.pyplot as plt\n",
    "import requests\n",
    "import csv\n",
    "import seaborn as sns\n",
    "from pandas import json_normalize"
   ]
  },
  {
   "cell_type": "markdown",
   "metadata": {},
   "source": [
    "# #### ### ### # API - Coingecko - Primera extraccion "
   ]
  },
  {
   "cell_type": "code",
   "execution_count": null,
   "metadata": {},
   "outputs": [],
   "source": [
    "def get_top_crypto_data():\n",
    "    url = \"https://api.coingecko.com/api/v3/coins/markets\"\n",
    "    \n",
    "    params = {\n",
    "        \"vs_currency\": \"usd\",\n",
    "        \"order\": \"market_cap_desc\",\n",
    "        \"per_page\": 10,\n",
    "        \"page\": 1\n",
    "    }\n",
    "    response = requests.get(url, params=params)\n",
    "\n",
    "    if response.status_code == 200:\n",
    "        data = response.json()\n",
    "        return data\n",
    "    else:\n",
    "        print(\"Error al obtener los datos.\")\n",
    "        return None\n",
    "\n",
    "def save_to_csv(data):\n",
    "    with open(\"top_crypto_data.csv\", mode=\"w\", newline=\"\") as file:\n",
    "        writer = csv.writer(file)\n",
    "        writer.writerow([\"Rank\", \"Name\",\"image\", \"Symbol\", \"Market Cap (USD)\", \"Price (USD)\", \"24h Change (%)\",\"last_updated\"])\n",
    "        \n",
    "        for crypto in data:\n",
    "            writer.writerow([\n",
    "                crypto[\"market_cap_rank\"],\n",
    "                crypto[\"name\"],\n",
    "                crypto[\"image\"],\n",
    "                crypto[\"symbol\"],\n",
    "                crypto[\"market_cap\"],\n",
    "                crypto[\"current_price\"],\n",
    "                crypto[\"price_change_percentage_24h\"],\n",
    "                crypto[\"last_updated\"]\n",
    "            ])\n",
    "\n",
    "if __name__ == \"__main__\":\n",
    "    top_crypto_data = get_top_crypto_data()\n",
    "    \n",
    "    if top_crypto_data is not None:\n",
    "        save_to_csv(crypto_data1)\n",
    "        print(\"Datos almacenados en crypto_data1.csv\")\n",
    "        "
   ]
  },
  {
   "cell_type": "markdown",
   "metadata": {},
   "source": [
    "### # Ampliar la extraccion . con un intervalo de tiempo / 2018 - 2023"
   ]
  },
  {
   "cell_type": "code",
   "execution_count": null,
   "metadata": {},
   "outputs": [],
   "source": [
    "def get_historical_market_cap(crypto_ids, vs_currency, from_date, to_date):\n",
    "    url = \"https://api.coingecko.com/api/v3/coins/markets\"\n",
    "    params = {\n",
    "        \"vs_currency\": vs_currency,\n",
    "        \"ids\": ','.join(crypto_ids),\n",
    "        \"from\": from_date,\n",
    "        \"to\": to_date\n",
    "    }\n",
    "    response = requests.get(url, params=params)\n",
    "\n",
    "    if response.status_code == 200:\n",
    "        data = response.json()\n",
    "        return data\n",
    "    else:\n",
    "        print(\"Error al obtener los datos.\")\n",
    "        return None\n",
    "\n",
    "def save_to_csv(data, filename):\n",
    "    df = pd.DataFrame(data)\n",
    "    df.to_csv(filename, index=False)\n",
    "\n",
    "if __name__ == \"__main__\":\n",
    "    crypto_ids = [\"bitcoin\", \"ethereum\", \"tether\", \"binancecoin\", \"xrp\", \"usd-coin\", \"lido-staked-ether\", \"dogecoin\", \"cardano\", \"solana\"]\n",
    "    vs_currency = \"usd\"\n",
    "    from_date = \"2018-01-01\"\n",
    "    to_date = \"2023-08-21\"\n",
    "\n",
    "    historical_market_cap = get_historical_market_cap(crypto_ids, vs_currency, from_date, to_date)\n",
    "    \n",
    "    if historical_market_cap is not None:\n",
    "        save_to_csv(historical_market_cap, \"dataset/historical_market_cap1.csv\")\n",
    "        print(\"Datos almacenados en historical_market_cap1.csv\")\n"
   ]
  },
  {
   "cell_type": "markdown",
   "metadata": {},
   "source": [
    "# #### Ampliar la lectura a 100 monedas digitales"
   ]
  },
  {
   "cell_type": "code",
   "execution_count": null,
   "metadata": {},
   "outputs": [],
   "source": [
    "url = 'https://api.coingecko.com/api/v3/coins/markets'\n",
    "params = {\n",
    "    'vs_currency': 'usd',  # Puedes cambiar la moneda aquí\n",
    "    'per_page': 100,  # Cantidad de registros por página\n",
    "    'page': 1  # Página de inicio\n",
    "}\n",
    "\n",
    "response = requests.get(url, params=params)\n",
    "data = response.json()\n",
    "\n",
    "df = pd.DataFrame(data)"
   ]
  },
  {
   "cell_type": "markdown",
   "metadata": {},
   "source": [
    "# #### Sitio alternativo- https://coinmap.org/api/v1/coins/"
   ]
  },
  {
   "cell_type": "code",
   "execution_count": null,
   "metadata": {},
   "outputs": [],
   "source": [
    "# URL de la API de Finage con tu clave de API\n",
    "url = 'https://coinmap.org/api/v1/coins/'\n",
    "\n",
    "# Realizar la solicitud GET\n",
    "response = requests.get(url)\n",
    "\n",
    "# Verificar el código de respuesta (200 indica una solicitud exitosa)\n",
    "if response.status_code == 200:\n",
    "    # Convertir la respuesta JSON en un diccionario de Python\n",
    "    data = response.json()\n",
    "    \n",
    "    # Crear un DataFrame a partir de los datos\n",
    "    df = pd.DataFrame(data)\n",
    "    \n",
    "    # Ahora puedes trabajar con el DataFrame según tus necesidades\n",
    "    \n",
    "    # Guardar el DataFrame en un archivo CSV\n",
    "    df.to_csv('crypto_moneda_coinmap.csv', index=False)\n",
    "    \n",
    "    print(\"Datos guardados en crypto_moneda_coinmap.csv\")\n",
    "else:\n",
    "    print(f\"La solicitud no fue exitosa. Código de respuesta: {response.status_code}\")"
   ]
  },
  {
   "cell_type": "markdown",
   "metadata": {},
   "source": [
    "# #### Sitio alternativo- https://api.finage.co.uk/news/cryptocurrency/BTC?apikey=API_KEY"
   ]
  },
  {
   "cell_type": "code",
   "execution_count": null,
   "metadata": {},
   "outputs": [],
   "source": [
    "# URL de la API de Finage con tu clave de API\n",
    "url = 'https://api.finage.co.uk/news/cryptocurrency/BTC?apikey=API_KEYf9XAS61HEQUS21O1P6HV6U24LZ6NPZL4'\n",
    "\n",
    "# Realizar la solicitud GET\n",
    "response = requests.get(url)\n",
    "\n",
    "# Verificar el código de respuesta (200 indica una solicitud exitosa)\n",
    "if response.status_code == 200:\n",
    "    # Convertir la respuesta JSON en un diccionario de Python\n",
    "    data = response.json()\n",
    "    \n",
    "    # Crear un DataFrame a partir de los datos\n",
    "    df = pd.DataFrame(data)\n",
    "    \n",
    "    # Ahora puedes trabajar con el DataFrame según tus necesidades\n",
    "    \n",
    "    # Guardar el DataFrame en un archivo CSV\n",
    "    df.to_csv('crypto_news.csv', index=False)\n",
    "    \n",
    "    print(\"Datos guardados en crypto_news.csv\")\n",
    "else:\n",
    "    print(f\"La solicitud no fue exitosa. Código de respuesta: {response.status_code}\")\n"
   ]
  },
  {
   "cell_type": "markdown",
   "metadata": {},
   "source": [
    "# #### Sitio alternativo- https://api.finage.co.uk/marketstatus?apikey=API_"
   ]
  },
  {
   "cell_type": "code",
   "execution_count": null,
   "metadata": {},
   "outputs": [],
   "source": [
    "# URL de la API de Finage con tu clave de API\n",
    "url = 'https://api.finage.co.uk/marketstatus?apikey=API_KEYf9XAS61HEQUS21O1P6HV6U24LZ6NPZL4'\n",
    "\n",
    "# Realizar la solicitud GET\n",
    "response = requests.get(url)\n",
    "\n",
    "# Verificar el código de respuesta (200 indica una solicitud exitosa)\n",
    "if response.status_code == 200:\n",
    "    # Convertir la respuesta JSON en un diccionario de Python\n",
    "    data = response.json()\n",
    "    \n",
    "    # Crear un DataFrame a partir de los datos\n",
    "    df = pd.DataFrame(data)\n",
    "    \n",
    "    # Ahora puedes trabajar con el DataFrame según tus necesidades\n",
    "    \n",
    "    # Guardar el DataFrame en un archivo CSV\n",
    "    df.to_csv('crypto_news_markets.csv', index=False)\n",
    "    \n",
    "    print(\"Datos guardados en crypto_news_markets.csv\")\n",
    "else:\n",
    "    print(f\"La solicitud no fue exitosa. Código de respuesta: {response.status_code}\")"
   ]
  }
 ],
 "metadata": {
  "kernelspec": {
   "display_name": "Python 3",
   "language": "python",
   "name": "python3"
  },
  "language_info": {
   "codemirror_mode": {
    "name": "ipython",
    "version": 3
   },
   "file_extension": ".py",
   "mimetype": "text/x-python",
   "name": "python",
   "nbconvert_exporter": "python",
   "pygments_lexer": "ipython3",
   "version": "3.8.8rc1"
  },
  "orig_nbformat": 4
 },
 "nbformat": 4,
 "nbformat_minor": 2
}
