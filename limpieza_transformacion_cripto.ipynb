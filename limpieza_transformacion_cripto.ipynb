{
 "cells": [
  {
   "cell_type": "code",
   "execution_count": null,
   "metadata": {},
   "outputs": [],
   "source": [
    "import pandas as pd\n",
    "import matplotlib.pyplot as plt\n",
    "import requests\n",
    "import csv\n",
    "import seaborn as sns"
   ]
  },
  {
   "cell_type": "markdown",
   "metadata": {},
   "source": [
    "### Data proporcinada por : https://api.coingecko.com/api/v3/coins/markets"
   ]
  },
  {
   "cell_type": "code",
   "execution_count": null,
   "metadata": {},
   "outputs": [],
   "source": [
    "# Leer el DATASET\n",
    "file_path = \"top_crypto_data.csv\"\n",
    "df_raw = pd.read_csv(file_path)\n"
   ]
  },
  {
   "cell_type": "code",
   "execution_count": null,
   "metadata": {},
   "outputs": [],
   "source": [
    "df_raw.head(10)"
   ]
  },
  {
   "cell_type": "code",
   "execution_count": null,
   "metadata": {},
   "outputs": [],
   "source": [
    "# Renombrar las columnas en español\n",
    "column_names_es = {\n",
    "    \"Rank\": \"Rango\",\n",
    "    \"Name\": \"Nombre\",\n",
    "    \"image\": \"Url\",\n",
    "    \"Symbol\": \"Símbolo\",\n",
    "    \"Market Cap (USD)\": \"Capitalización de Mercado (USD)\",\n",
    "    \"Price (USD)\": \"Precio (USD)\",\n",
    "    \"24h Change (%)\": \"Cambio en 24h (%)\",\n",
    "    #\"last_updated\": \"Ultima Actualizacion\"\n",
    "}\n",
    "\n",
    "df1 = df_raw.rename(columns=column_names_es)\n",
    "\n",
    "# Imprimir el DataFrame con las columnas renombradas\n",
    "print(df1)"
   ]
  },
  {
   "cell_type": "code",
   "execution_count": null,
   "metadata": {},
   "outputs": [],
   "source": [
    "save_to_csv(df1 ,\"dataset/top_cripto.csv\")\n"
   ]
  },
  {
   "cell_type": "code",
   "execution_count": null,
   "metadata": {},
   "outputs": [],
   "source": [
    "print(df1[['Nombre', 'Precio (USD)']].head(15))"
   ]
  },
  {
   "cell_type": "code",
   "execution_count": null,
   "metadata": {},
   "outputs": [],
   "source": [
    "columns_names = df1.columns.values\n",
    "columns_names"
   ]
  },
  {
   "cell_type": "code",
   "execution_count": null,
   "metadata": {},
   "outputs": [],
   "source": [
    "print(df1[['Nombre', 'Cambio en 24h (%)']].head(15))"
   ]
  },
  {
   "cell_type": "code",
   "execution_count": null,
   "metadata": {},
   "outputs": [],
   "source": [
    "# Cargar el archivo CSV con los datos históricos\n",
    "df = pd.read_csv(\"dataset/historical_market_cap_5_years.csv\")\n",
    "\n",
    "# Renombrar las columnas en español\n",
    "nuevos_nombres = {\n",
    "    \"id\": \"ID\",\n",
    "    \"symbol\": \"Símbolo\",\n",
    "    \"name\": \"Nombre\",\n",
    "    \"image\": \"Imagen\",\n",
    "    \"current_price\": \"Precio Actual\",\n",
    "    \"market_cap\": \"Capitalización de Mercado\",\n",
    "    \"market_cap_rank\": \"Rango de Capitalización de Mercado\",\n",
    "    \"fully_diluted_valuation\": \"Valoración Total Diluida\",\n",
    "    \"total_volume\": \"Volumen Total\",\n",
    "    \"high_24h\": \"Máximo en 24 Horas\",\n",
    "    \"low_24h\": \"Mínimo en 24 Horas\",\n",
    "    \"price_change_24h\": \"Cambio de Precio en 24 Horas\",\n",
    "    \"price_change_percentage_24h\": \"Cambio de Precio en 24 Horas (%)\",\n",
    "    \"market_cap_change_24h\": \"Cambio de Capitalización en 24 Horas\",\n",
    "    \"market_cap_change_percentage_24h\": \"Cambio de Capitalización en 24 Horas (%)\",\n",
    "    \"circulating_supply\": \"Suministro Circulante\",\n",
    "    \"total_supply\": \"Suministro Total\",\n",
    "    \"max_supply\": \"Suministro Máximo\",\n",
    "    \"ath\": \"Máximo Histórico (ATH)\",\n",
    "    \"ath_change_percentage\": \"Cambio de ATH (%)\",\n",
    "    \"ath_date\": \"Fecha de ATH\",\n",
    "    \"atl\": \"Mínimo Histórico (ATL)\",\n",
    "    \"atl_change_percentage\": \"Cambio de ATL (%)\",\n",
    "    \"atl_date\": \"Fecha de ATL\",\n",
    "    \"roi\": \"Retorno de la Inversión (ROI)\",\n",
    "    \"last_updated\": \"Última Actualización\"\n",
    "\n",
    "}\n",
    "\n",
    "# Renombrar las columnas\n",
    "df = df.rename(columns=nuevos_nombres)\n",
    "\n",
    "# Guardar el DataFrame actualizado en un nuevo archivo CSV\n",
    "df.to_csv(\"dataset/historical_market_cap_5_years_espanol.csv\", index=False)\n"
   ]
  },
  {
   "cell_type": "code",
   "execution_count": null,
   "metadata": {},
   "outputs": [],
   "source": [
    "# Cargar el archivo CSV con los datos históricos\n",
    "df = pd.read_csv(\"dataset/describe_Data.csv\")\n",
    "\n",
    "# Renombrar las columnas en español\n",
    "nuevos_nombres = {\n",
    "\"current_price\": \"Precio Actual\",\n",
    "\"market_cap\": \"Capitalización de Mercado\",\n",
    "\"market_cap_rank\" : \"Rango de Capitalización de Mercado\",\n",
    "\"fully_diluted_valuation\": \"Valoración Total Diluida\",\n",
    "\"total_volume\": \"Volumen Total\",\n",
    "\"high_24h\": \"Máximo en 24 Horas\",\n",
    "\"low_24h\": \"Mínimo en 24 Horas\",\n",
    "\"price_change_24h\": \"Cambio de Precio en 24 Horas\",\n",
    "\"price_change_percentage_24h\" : \"Cambio de Precio en 24 Horas (%)\",\n",
    "\"market_cap_change_24h\": \"Cambio de Capitalización en 24 Horas\",\n",
    "\"market_cap_change_percentage_24h\": \"Cambio de Capitalización en 24 Horas (%)\",\n",
    "\"circulating_supply\": \"Suministro Circulante\",\n",
    "\"total_supply\": \"Suministro Total\",\n",
    "\"max_supply\": \"Suministro Máximo\",\n",
    "\"ath\": \"Máximo Histórico (ATH)\",\n",
    "\"ath_change_percentage\": \"Cambio de ATH (%)\",\n",
    "\"atl\": \"Mínimo Histórico (ATL)\",\n",
    "\"atl_change_percentage\": \"Cambio de ATL (%)\"\n",
    "\n",
    "}\n",
    "\n",
    "# Renombrar las columnas\n",
    "df = df.rename(columns=nuevos_nombres)\n",
    "\n",
    "# Guardar el DataFrame actualizado en un nuevo archivo CSV\n",
    "df.to_csv(\"describeData_espanol.csv\", index=False)\n"
   ]
  },
  {
   "cell_type": "code",
   "execution_count": null,
   "metadata": {},
   "outputs": [],
   "source": [
    "# Manejar valores nulos\n",
    "df.dropna(inplace=True)\n",
    "\n",
    "# Convertir columnas relevantes a tipos numéricos\n",
    "numeric_cols = ['market_cap', 'current_price', 'total_volume']\n",
    "df[numeric_cols] = df[numeric_cols].apply(pd.to_numeric)\n",
    "\n",
    "# Manejar nombres de columnas\n",
    "df.rename(columns={'market_cap': 'capitalizacion_mercado', 'current_price': 'precio_actual', 'total_volume': 'volumen_total'}, inplace=True)\n"
   ]
  },
  {
   "cell_type": "markdown",
   "metadata": {},
   "source": [
    "#### Data proporcionada por : https://coinmap.org/api/v1/coins/"
   ]
  },
  {
   "cell_type": "code",
   "execution_count": null,
   "metadata": {},
   "outputs": [],
   "source": [
    "# Cargar los datos desde el archivo CSV\n",
    "df = pd.read_csv('crypto_moneda_coinmap.csv')\n",
    "\n",
    "# Convertir la columna 'news' de JSON a un DataFrame\n",
    "news_df = df['coins'].apply(eval).apply(pd.Series)\n",
    "\n",
    "# Eliminar la columna 'news' original\n",
    "df = df.drop(columns=['coins'])\n",
    "\n",
    "# Concatenar el DataFrame 'news_df' con el DataFrame original 'df'\n",
    "df = pd.concat([df, news_df], axis=1)\n",
    "\n",
    "# Mostrar el DataFrame resultante\n",
    "print(df)"
   ]
  },
  {
   "cell_type": "markdown",
   "metadata": {},
   "source": [
    "##### Data proporcinada por: https://api.finage.co.uk/news/cryptocurrency/BTC?apikey"
   ]
  },
  {
   "cell_type": "code",
   "execution_count": null,
   "metadata": {},
   "outputs": [],
   "source": [
    "# Cargar los datos desde el archivo CSV\n",
    "df = pd.read_csv('crypto_news_monedas_info.csv')\n",
    "\n",
    "# Convertir la columna 'news' de JSON a un DataFrame\n",
    "news_df = df['results'].apply(eval).apply(pd.Series)\n",
    "\n",
    "# Eliminar la columna 'news' original\n",
    "df = df.drop(columns=['results'])\n",
    "\n",
    "# Concatenar el DataFrame 'news_df' con el DataFrame original 'df'\n",
    "df = pd.concat([df, news_df], axis=1)\n",
    "\n",
    "# Mostrar el DataFrame resultante\n",
    "print(df)"
   ]
  },
  {
   "cell_type": "code",
   "execution_count": null,
   "metadata": {},
   "outputs": [],
   "source": [
    "nuevos_nombres = {\n",
    "    'name': 'nombre',\n",
    "    'symbol': 'símbolo',\n",
    "    'type': 'tipo',\n",
    "    'isActive': 'activo',\n",
    "    'description': 'descripción',\n",
    "    'developers': 'desarrolladores',\n",
    "    'opensource': 'código abierto',\n",
    "    'startedAt': 'comenzó en',\n",
    "    'hashAlgorithm': 'algoritmo de hash',\n",
    "    'links': 'enlaces',\n",
    "    'thumbnail': 'miniatura',\n",
    "    'developmentStatus': 'estado de desarrollo',\n",
    "    'hardwareWallet': 'cartera de hardware'\n",
    "}\n",
    "\n",
    "# Utiliza el método 'rename' para cambiar los nombres de las columnas\n",
    "df.rename(columns=nuevos_nombres, inplace=True)\n",
    "\n",
    "# Ahora, las columnas tienen los nombres en español\n"
   ]
  },
  {
   "cell_type": "code",
   "execution_count": null,
   "metadata": {},
   "outputs": [],
   "source": [
    "# Cargar los datos desde el archivo CSV\n",
    "df = pd.read_csv('crypto_detalle_español.csv')\n",
    "\n",
    "# Convertir la columna 'news' de JSON a un DataFrame\n",
    "news_df = df['desarrolladores'].apply(eval).apply(pd.Series)\n",
    "\n",
    "# Eliminar la columna 'news' original\n",
    "df = df.drop(columns=['desarrolladores'])\n",
    "\n",
    "# Concatenar el DataFrame 'news_df' con el DataFrame original 'df'\n",
    "df = pd.concat([df, news_df], axis=1)\n",
    "\n",
    "# Mostrar el DataFrame resultante\n",
    "print(df)"
   ]
  },
  {
   "cell_type": "code",
   "execution_count": null,
   "metadata": {},
   "outputs": [],
   "source": [
    "# Actualizar el DataFrame en un archivo CSV\n",
    "df.to_csv('crypto_detalle_español_desanidado.csv', index=False)"
   ]
  },
  {
   "cell_type": "code",
   "execution_count": null,
   "metadata": {},
   "outputs": [],
   "source": [
    "# Cargar los datos desde el archivo CSV\n",
    "df = pd.read_csv('crypto_detalle_español.csv')\n",
    "\n",
    "# Convertir la columna 'news' de JSON a un DataFrame\n",
    "news_df = df['enlaces'].apply(eval).apply(pd.Series)\n",
    "\n",
    "# Eliminar la columna 'news' original\n",
    "df = df.drop(columns=['enlaces'])\n",
    "\n",
    "# Concatenar el DataFrame 'news_df' con el DataFrame original 'df'\n",
    "df = pd.concat([df, news_df], axis=1)\n",
    "\n",
    "# Mostrar el DataFrame resultante\n",
    "print(df)"
   ]
  },
  {
   "cell_type": "code",
   "execution_count": null,
   "metadata": {},
   "outputs": [],
   "source": []
  }
 ],
 "metadata": {
  "language_info": {
   "name": "python"
  },
  "orig_nbformat": 4
 },
 "nbformat": 4,
 "nbformat_minor": 2
}
